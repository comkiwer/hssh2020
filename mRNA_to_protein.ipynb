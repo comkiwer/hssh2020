{
  "nbformat": 4,
  "nbformat_minor": 0,
  "metadata": {
    "colab": {
      "name": "mRNA_to_protein.ipynb",
      "provenance": [],
      "collapsed_sections": [],
      "authorship_tag": "ABX9TyOAT2cJRIF4QEkZQBVE+ydM",
      "include_colab_link": true
    },
    "kernelspec": {
      "name": "python3",
      "display_name": "Python 3"
    }
  },
  "cells": [
    {
      "cell_type": "markdown",
      "metadata": {
        "id": "view-in-github",
        "colab_type": "text"
      },
      "source": [
        "<a href=\"https://colab.research.google.com/github/greatsong/hssh2020/blob/master/mRNA_to_protein.ipynb\" target=\"_parent\"><img src=\"https://colab.research.google.com/assets/colab-badge.svg\" alt=\"Open In Colab\"/></a>"
      ]
    },
    {
      "cell_type": "markdown",
      "metadata": {
        "id": "J-l4jMl4t65M",
        "colab_type": "text"
      },
      "source": [
        "### 프로젝트 준비 1. 데이터를 리스트로 바꿔봅시다.  \n",
        "- 작은 따옴표로 둘러싼 텍스트를 list() 함수에 넣으면 다음과 같이 한 글자씩 나눠진 리스트가 됩니다."
      ]
    },
    {
      "cell_type": "code",
      "metadata": {
        "id": "mU-qTSfy-pQL",
        "colab_type": "code",
        "outputId": "f7c845be-21ca-436a-8875-81b68b3f5a35",
        "colab": {
          "base_uri": "https://localhost:8080/",
          "height": 35
        }
      },
      "source": [
        "dna = list('GTTACATATTGC')\n",
        "print(dna)"
      ],
      "execution_count": 0,
      "outputs": [
        {
          "output_type": "stream",
          "text": [
            "['G', 'T', 'T', 'A', 'C', 'A', 'T', 'A', 'T', 'T', 'G', 'C']\n"
          ],
          "name": "stdout"
        }
      ]
    },
    {
      "cell_type": "markdown",
      "metadata": {
        "id": "6KFyqwcAuNNt",
        "colab_type": "text"
      },
      "source": [
        "### 프로젝트 준비 2. 리스트의 슬라이싱에 대해 잠깐 복습해볼까요?  \n",
        "- 리스트에서 일부를 잘라내는 것을 슬라이싱(slicing)이라고 했었죠?  \n",
        "- 만약 dna라는 리스트의 처음부터 3번째 데이터 이전까지의 데이터를 자르려면 이렇게 하면 됩니다."
      ]
    },
    {
      "cell_type": "code",
      "metadata": {
        "id": "3BBiUiNK-1nV",
        "colab_type": "code",
        "colab": {}
      },
      "source": [
        "print(dna[:3])"
      ],
      "execution_count": 0,
      "outputs": []
    },
    {
      "cell_type": "markdown",
      "metadata": {
        "id": "tWZuvPICulrN",
        "colab_type": "text"
      },
      "source": [
        "- 이제 1번째부터 4번째 이전까지 데이터를 3개 슬라이싱해보겠습니다."
      ]
    },
    {
      "cell_type": "code",
      "metadata": {
        "id": "mibIoYNfHMjH",
        "colab_type": "code",
        "colab": {}
      },
      "source": [
        "print(dna[1:4])"
      ],
      "execution_count": 0,
      "outputs": []
    },
    {
      "cell_type": "markdown",
      "metadata": {
        "id": "6bMWYe3_vIfs",
        "colab_type": "text"
      },
      "source": [
        "- 다음으로는 처음부터 12개의 데이터를 출력해보겠습니다.\n",
        "- 다른 방법도 있지만, 이렇게 해도 됩니다. range 함수 + 인덱싱을 사용하는 이 패턴을 잘 봐두세요!"
      ]
    },
    {
      "cell_type": "code",
      "metadata": {
        "id": "d6L8qSrYHNo0",
        "colab_type": "code",
        "colab": {}
      },
      "source": [
        "for i in range(12) :\n",
        "  print(dna[i])"
      ],
      "execution_count": 0,
      "outputs": []
    },
    {
      "cell_type": "markdown",
      "metadata": {
        "id": "BMrqc4-GvUKs",
        "colab_type": "text"
      },
      "source": [
        "### 프로젝트 준비 3. 딕셔너리 + for 반복문   \n",
        "- 딕셔너리 문법이 많이 어렵게 느껴지죠?! \n",
        "- 하지만 주로 많이 쓰이는 문법 Top은 바로 이 문법입니다! 이것만큼은 잘 익혀두세요!"
      ]
    },
    {
      "cell_type": "code",
      "metadata": {
        "id": "ud3Fa43h-78i",
        "colab_type": "code",
        "colab": {}
      },
      "source": [
        "pair = {'T':'A','G':'C','C':'G'}"
      ],
      "execution_count": 0,
      "outputs": []
    },
    {
      "cell_type": "code",
      "metadata": {
        "id": "ZLfTT4WC_DxR",
        "colab_type": "code",
        "outputId": "e5037893-4446-407d-e834-7ba6cdde7954",
        "colab": {
          "base_uri": "https://localhost:8080/",
          "height": 35
        }
      },
      "source": [
        "pair['A'] = 'U'\n",
        "pair"
      ],
      "execution_count": 0,
      "outputs": [
        {
          "output_type": "execute_result",
          "data": {
            "text/plain": [
              "{'A': 'U', 'C': 'G', 'G': 'C', 'T': 'A'}"
            ]
          },
          "metadata": {
            "tags": []
          },
          "execution_count": 6
        }
      ]
    },
    {
      "cell_type": "code",
      "metadata": {
        "id": "zXgiRMfexQCq",
        "colab_type": "code",
        "outputId": "273c559a-3893-441b-9990-1ce71c5acc17",
        "colab": {
          "base_uri": "https://localhost:8080/",
          "height": 35
        }
      },
      "source": [
        "pair['A']"
      ],
      "execution_count": 0,
      "outputs": [
        {
          "output_type": "execute_result",
          "data": {
            "text/plain": [
              "'U'"
            ]
          },
          "metadata": {
            "tags": []
          },
          "execution_count": 7
        }
      ]
    },
    {
      "cell_type": "markdown",
      "metadata": {
        "id": "_j9NsICXxdoY",
        "colab_type": "text"
      },
      "source": [
        "- 자, 이제 dna 데이터셋에서 for 반복문으로 하나씩 꺼내옵니다.\n",
        "- 그런 다음 pair[i]를 출력하면 어떻게 될까요?!"
      ]
    },
    {
      "cell_type": "code",
      "metadata": {
        "id": "bls7oHai_KIP",
        "colab_type": "code",
        "colab": {}
      },
      "source": [
        "for i in dna :\n",
        "  print(pair[i])"
      ],
      "execution_count": 0,
      "outputs": []
    },
    {
      "cell_type": "markdown",
      "metadata": {
        "id": "hlM-4UKLx1tT",
        "colab_type": "text"
      },
      "source": [
        "### 여기까지 프로젝트 들어가기 전 복습이었습니다.\n",
        "### 이제 본격적으로 DNA를 mRNA로 전사하는 프로젝트를 실습하고, 한 걸음 더 나아가서 mRNA에서 개시코돈을 찾아보겠습니다.\n",
        "### 위의 내용들은 꼭 실습해서 손으로 익혀두세요! 백문이 불여일타!!!"
      ]
    },
    {
      "cell_type": "code",
      "metadata": {
        "id": "5a2hcOhq_OAa",
        "colab_type": "code",
        "colab": {}
      },
      "source": [
        "result = []\n",
        "for i in dna :\n",
        "  result.append(pair[i])\n",
        "  \n",
        "print(dna)\n",
        "print(result)"
      ],
      "execution_count": 0,
      "outputs": []
    },
    {
      "cell_type": "markdown",
      "metadata": {
        "id": "nM8Tndm42kVh",
        "colab_type": "text"
      },
      "source": [
        "## 도전! DNA mRNA 전사 프로젝트1!\n",
        "![DNA2mRNA](http://study.zumst.com/upload/00-a33-00-21-05/2_2_1.jpg)"
      ]
    },
    {
      "cell_type": "markdown",
      "metadata": {
        "id": "sDZkXj3755p_",
        "colab_type": "text"
      },
      "source": [
        "### step 1. 제일 먼저 우리가 해야할 일은 문제를 명확히 정의하는 것입니다!\n",
        "- 우리의 문제는 무엇인가요?\n",
        "- 네 입력된 DNA 서열을 mRNA 서열로 전사하는 것입니다.\n",
        "- 이를 위해 여러 단계를 거쳐야하는데요. 정보 시간에는 이 문제를 가장 심플하게 정의해보고, 점점 복잡성을 높여가는 방식으로 해결해나가겠습니다."
      ]
    },
    {
      "cell_type": "markdown",
      "metadata": {
        "id": "nDBchNdL5_iA",
        "colab_type": "text"
      },
      "source": [
        "[정의된 문제]  \n",
        "- 입력 : DNA 서열  \n",
        "- 출력 : mRNA 서열  \n",
        "- 문제에 필요한 조건 : DNA와 mRNA의 전사는 A -> U, T -> A, G -> C, C -> G로 이루어진다."
      ]
    },
    {
      "cell_type": "markdown",
      "metadata": {
        "id": "CamNUke659lT",
        "colab_type": "text"
      },
      "source": [
        "### step 2. 입력을 출력으로 바꿔줄 알고리즘 설계하기\n",
        "- 이제 입력을 출력으로 어떻게 바꿀 수 있는지 고민해보겠습니다.\n",
        "- 이것도 역시 천리길도 한 걸음부터! 작게 시작해서 점점 복잡한 조건을 고려하면 됩니다.\n",
        "- 문제해결을 위해 어떤 단계가 필요할까요?"
      ]
    },
    {
      "cell_type": "markdown",
      "metadata": {
        "id": "ICn4va4J6fwH",
        "colab_type": "text"
      },
      "source": [
        "### 알고리즘 생각해보기\n",
        "#### 1. DNA 서열 입력하기 * 어떤 데이터 구조에 담을까?\n",
        "#### 2. DNA를 mRNA로 바꿔줄 규칙 정하기  * 그 규칙은 어떤 데이터 구조에 담을까?\n",
        "#### 3. DNA 서열을 차례대로 mRNA로 바꾸기\n",
        "#### 4. 바뀐 데이터 순서대로 저장하기 * 바뀐 데이터는 어떤 데이터 구조에 담을까?\n",
        "#### 5. 전사된 mRNA 서열 결과 출력하기"
      ]
    },
    {
      "cell_type": "markdown",
      "metadata": {
        "id": "MVHpwbqU7wF6",
        "colab_type": "text"
      },
      "source": [
        "### step 3. 이제 알고리즘을 코드로 표현해봅시다!!"
      ]
    },
    {
      "cell_type": "code",
      "metadata": {
        "id": "_k9-VE6u_fXC",
        "colab_type": "code",
        "colab": {}
      },
      "source": [
        "### 코드로 표현하기\n",
        "#### 1. DNA 서열 입력하기 * 어떤 데이터 구조에 담을까?\n",
        "dna = list('ATGTCCTGTTAA')\n",
        "#### 2. DNA를 mRNA로 바꿔줄 규칙 정하기  * 그 규칙은 어떤 데이터 구조에 담을까?\n",
        "pair = {'A':'U','T':'A','G':'C','C':'G'}\n",
        "\n",
        "result = []\n",
        "#### 3. DNA 서열을 차례대로 mRNA로 바꾸기\n",
        "for i in dna :\n",
        "  #### 4. 바뀐 데이터 순서대로 저장하기 * 바뀐 데이터는 어떤 데이터 구조에 담을까?\n",
        "  result.append(pair[i])\n",
        "\n",
        "print(dna)\n",
        "#### 5. 전사된 mRNA 서열 결과 출력하기\n",
        "print(result)"
      ],
      "execution_count": 0,
      "outputs": []
    },
    {
      "cell_type": "markdown",
      "metadata": {
        "id": "0o9kb9ya7jSu",
        "colab_type": "text"
      },
      "source": [
        "## 도전! DNA mRNA 전사 프로젝트2 - 순서 뒤집고 개시 코돈 찾기!"
      ]
    },
    {
      "cell_type": "markdown",
      "metadata": {
        "id": "z-VuQgWw8FKs",
        "colab_type": "text"
      },
      "source": [
        "### 1. 리스트 데이터 뒤집기 \n",
        "- a[:3], a[3:]의 의미 기억나시나요?!\n",
        "- 그렇다면 a[:]는 어떤 의미의 코드일까요?\n",
        "- range(0,10,1)의 의미 기억나시나요?!\n",
        "- 그렇다면 a[::-1]의 의미는 무엇일까요?"
      ]
    },
    {
      "cell_type": "code",
      "metadata": {
        "id": "INPOlpeUWxIA",
        "colab_type": "code",
        "outputId": "0d607be6-38f7-4668-9cf9-7f4e5e110c2e",
        "colab": {
          "base_uri": "https://localhost:8080/",
          "height": 35
        }
      },
      "source": [
        "a = [1,2,3,4]\n",
        "print(a[::-1])"
      ],
      "execution_count": 0,
      "outputs": [
        {
          "output_type": "stream",
          "text": [
            "[4, 3, 2, 1]\n"
          ],
          "name": "stdout"
        }
      ]
    },
    {
      "cell_type": "markdown",
      "metadata": {
        "id": "dhi2ad4i8uQJ",
        "colab_type": "text"
      },
      "source": [
        "- 자 이제 mRNA 데이터를 뒤집어보겠습니다!"
      ]
    },
    {
      "cell_type": "code",
      "metadata": {
        "id": "XHVBCY6lBm8u",
        "colab_type": "code",
        "outputId": "ff16bdbd-ebde-431a-bf87-282dce7d074a",
        "colab": {
          "base_uri": "https://localhost:8080/",
          "height": 53
        }
      },
      "source": [
        "dna = list('ATGTCCTGTTACATATTGC')\n",
        "pair = {'A':'U','T':'A','G':'C','C':'G'}\n",
        "\n",
        "result = []\n",
        "for i in dna :\n",
        "  result.append(pair[i])\n",
        "\n",
        "print(dna)\n",
        "print(result[::-1])"
      ],
      "execution_count": 0,
      "outputs": [
        {
          "output_type": "stream",
          "text": [
            "['A', 'T', 'G', 'T', 'C', 'C', 'T', 'G', 'T', 'T', 'A', 'C', 'A', 'T', 'A', 'T', 'T', 'G', 'C']\n",
            "['G', 'C', 'A', 'A', 'U', 'A', 'U', 'G', 'U', 'A', 'A', 'C', 'A', 'G', 'G', 'A', 'C', 'A', 'U']\n"
          ],
          "name": "stdout"
        }
      ]
    },
    {
      "cell_type": "markdown",
      "metadata": {
        "id": "-e12vF468zLk",
        "colab_type": "text"
      },
      "source": [
        "- 이렇게 뒤집힌 데이터를 result에 저장하겠습니다."
      ]
    },
    {
      "cell_type": "code",
      "metadata": {
        "id": "LouKpQklA1G5",
        "colab_type": "code",
        "colab": {}
      },
      "source": [
        "dna = list('GTTACATATTGC')\n",
        "pair = {'A':'U','T':'A','G':'C','C':'G'}\n",
        "\n",
        "result = []\n",
        "for i in dna :\n",
        "  result.append(pair[i])\n",
        "result = result[::-1]\n",
        "\n",
        "print(dna)\n",
        "print(result)"
      ],
      "execution_count": 0,
      "outputs": []
    },
    {
      "cell_type": "markdown",
      "metadata": {
        "id": "U5ufiL9X8_3B",
        "colab_type": "text"
      },
      "source": [
        "### 2. 시작 데이터 찾기\n",
        "- 문자 + 문자는? 예를 들어 'a' + 'b' + 'c'는?\n",
        "- 조건문 반복을 멈추고 싶을 때는 무엇을 사용해야한다고 했죠?"
      ]
    },
    {
      "cell_type": "code",
      "metadata": {
        "id": "fFU7wSGS9ASK",
        "colab_type": "code",
        "outputId": "54b5282c-ed19-4b7a-a616-b4a98cecfc4e",
        "colab": {
          "base_uri": "https://localhost:8080/",
          "height": 35
        }
      },
      "source": [
        "test = 'a'\n",
        "test = test + 'b'\n",
        "test = test + 'c'\n",
        "print(test)"
      ],
      "execution_count": 0,
      "outputs": [
        {
          "output_type": "stream",
          "text": [
            "abc\n"
          ],
          "name": "stdout"
        }
      ]
    },
    {
      "cell_type": "code",
      "metadata": {
        "id": "VFxSCXOTIKX3",
        "colab_type": "code",
        "outputId": "6ceaffc5-b0be-4790-f6c8-05d68a3afddb",
        "colab": {
          "base_uri": "https://localhost:8080/",
          "height": 35
        }
      },
      "source": [
        "for i in test :\n",
        "  if i == 'b' :\n",
        "    break\n",
        "  print(i)"
      ],
      "execution_count": 0,
      "outputs": [
        {
          "output_type": "stream",
          "text": [
            "a\n"
          ],
          "name": "stdout"
        }
      ]
    },
    {
      "cell_type": "markdown",
      "metadata": {
        "id": "J5xI-Hua5vDG",
        "colab_type": "text"
      },
      "source": [
        "- 데이터의 길이를 알려주는 len 함수를 알아봅시다."
      ]
    },
    {
      "cell_type": "code",
      "metadata": {
        "id": "WTcUzx6s5xNd",
        "colab_type": "code",
        "outputId": "92cbf6d0-067c-4e20-9be1-d7c81c2c5779",
        "colab": {
          "base_uri": "https://localhost:8080/",
          "height": 53
        }
      },
      "source": [
        "print(len([1,2,3,4]))\n",
        "print(len(test))"
      ],
      "execution_count": 0,
      "outputs": [
        {
          "output_type": "stream",
          "text": [
            "4\n",
            "3\n"
          ],
          "name": "stdout"
        }
      ]
    },
    {
      "cell_type": "markdown",
      "metadata": {
        "id": "w_tSmFYu9FrV",
        "colab_type": "text"
      },
      "source": [
        "- 연습문제로 'abc' 데이터 중 'b'로 시작되는 부분을 찾아 'b'부터 출력해보겠습니다."
      ]
    },
    {
      "cell_type": "code",
      "metadata": {
        "id": "ZpBVdl0GIZvd",
        "colab_type": "code",
        "outputId": "fab00d0a-74f6-45ca-ed50-30a354e68416",
        "colab": {
          "base_uri": "https://localhost:8080/",
          "height": 35
        }
      },
      "source": [
        "for i in range(len(test)) :\n",
        "  if test[i] == 'b' :\n",
        "    test = test[i:]\n",
        "    break\n",
        "print(test)"
      ],
      "execution_count": 0,
      "outputs": [
        {
          "output_type": "stream",
          "text": [
            "bc\n"
          ],
          "name": "stdout"
        }
      ]
    },
    {
      "cell_type": "markdown",
      "metadata": {
        "id": "320v3Y0084zW",
        "colab_type": "text"
      },
      "source": [
        "- 드디어 개시코돈(AUG)을 찾을 차례입니다!"
      ]
    },
    {
      "cell_type": "code",
      "metadata": {
        "id": "GsZvHj2r6fY0",
        "colab_type": "code",
        "colab": {}
      },
      "source": [
        "# ['G', 'C', 'A', 'A', 'U', 'A', 'U', 'G', 'U', 'A', 'A', 'C']"
      ],
      "execution_count": 0,
      "outputs": []
    },
    {
      "cell_type": "code",
      "metadata": {
        "id": "5mT18Q9u848D",
        "colab_type": "code",
        "colab": {}
      },
      "source": [
        "for i in range(len(result)-2) :\n",
        "  if result[i] + result[i+1] + result[i+2] == 'AUG' :\n",
        "     print(result[i:])\n",
        "     break"
      ],
      "execution_count": 0,
      "outputs": []
    },
    {
      "cell_type": "markdown",
      "metadata": {
        "id": "Zv3yyR12xILr",
        "colab_type": "text"
      },
      "source": [
        "- 개시코돈부터 데이터를 잘라서 저장합니다."
      ]
    },
    {
      "cell_type": "code",
      "metadata": {
        "id": "0wJjt8lJ69bj",
        "colab_type": "code",
        "colab": {}
      },
      "source": [
        "for i in range(len(result)-2) :\n",
        "  if result[i] + result[i+1] + result[i+2] == 'AUG' :\n",
        "    codon = result[i:]\n",
        "    break"
      ],
      "execution_count": 0,
      "outputs": []
    },
    {
      "cell_type": "markdown",
      "metadata": {
        "id": "lZmKOy1PBWM9",
        "colab_type": "text"
      },
      "source": [
        "- 오늘의 완성 코드입니다. 하나씩 하나씩 잘 분석해보세요!"
      ]
    },
    {
      "cell_type": "code",
      "metadata": {
        "id": "YS2cGLGwBp-p",
        "colab_type": "code",
        "outputId": "07dfc3df-a03a-439c-a02b-d7621e7eb87a",
        "colab": {
          "base_uri": "https://localhost:8080/",
          "height": 71
        }
      },
      "source": [
        "dna = list('GTTACATATTGC')\n",
        "pair = {'A':'U','T':'A','G':'C','C':'G'}\n",
        "\n",
        "result = []\n",
        "for i in dna :\n",
        "  result.append(pair[i])\n",
        "  \n",
        "result = result[::-1]\n",
        "\n",
        "print(dna)\n",
        "print(result)\n",
        "\n",
        "for i in range(len(result)-2) :\n",
        "  if result[i] + result[i+1] + result[i+2] == 'AUG' :\n",
        "     codon = result[i:]\n",
        "     break\n",
        "\n",
        "print(codon)"
      ],
      "execution_count": 0,
      "outputs": [
        {
          "output_type": "stream",
          "text": [
            "['G', 'T', 'T', 'A', 'C', 'A', 'T', 'A', 'T', 'T', 'G', 'C']\n",
            "['G', 'C', 'A', 'A', 'U', 'A', 'U', 'G', 'U', 'A', 'A', 'C']\n",
            "['A', 'U', 'G', 'U', 'A', 'A', 'C']\n"
          ],
          "name": "stdout"
        }
      ]
    },
    {
      "cell_type": "code",
      "metadata": {
        "id": "DNjVIzqhZKCq",
        "colab_type": "code",
        "colab": {}
      },
      "source": [
        ""
      ],
      "execution_count": 0,
      "outputs": []
    }
  ]
}