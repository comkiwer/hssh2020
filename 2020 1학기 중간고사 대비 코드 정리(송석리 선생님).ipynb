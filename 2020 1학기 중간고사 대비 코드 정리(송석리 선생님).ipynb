{
 "cells": [
  {
   "cell_type": "markdown",
   "metadata": {},
   "source": [
    "## I. 비밀번호 맞추기 문제"
   ]
  },
  {
   "cell_type": "code",
   "execution_count": 1,
   "metadata": {},
   "outputs": [
    {
     "name": "stdout",
     "output_type": "stream",
     "text": [
      "id를 입력해주세요 : greatsong\n",
      "비밀번호 8자리를 입력해주세요 : 12345678\n",
      "id를 입력해주세요 : greatsong\n",
      "greatsong님의 비밀번호는  89897578 입니다!\n"
     ]
    }
   ],
   "source": [
    "#1. 사용자가 직접 비밀번호를 입력하게 하는 코드\n",
    "id = input('id를 입력해주세요 : ')\n",
    "passwd = int(input('비밀번호 8자리를 입력해주세요 : '))\n",
    "\n",
    "#2. 랜덤한 숫자로 비밀번호가 지정되는 코드\n",
    "import random\n",
    "id = input('id를 입력해주세요 : ')\n",
    "passwd = random.randint(0,99999999) # 00000000과 0은 같은 숫자로 간주\n",
    "\n",
    "for i in range(100000000) :\n",
    "    if i == passwd :\n",
    "        print(id + '님의 비밀번호는 ',i,'입니다!')\n",
    "        break"
   ]
  },
  {
   "cell_type": "markdown",
   "metadata": {},
   "source": [
    "## II. 연습문제"
   ]
  },
  {
   "cell_type": "markdown",
   "metadata": {},
   "source": [
    "#### part 1)"
   ]
  },
  {
   "cell_type": "code",
   "execution_count": 10,
   "metadata": {},
   "outputs": [
    {
     "name": "stdout",
     "output_type": "stream",
     "text": [
      "2 3 4 "
     ]
    }
   ],
   "source": [
    "n = 5\n",
    "for i in range(2, n) :\n",
    "    print(i, end =' ')"
   ]
  },
  {
   "cell_type": "code",
   "execution_count": 11,
   "metadata": {},
   "outputs": [
    {
     "name": "stdout",
     "output_type": "stream",
     "text": [
      "0\n"
     ]
    }
   ],
   "source": [
    "n = 5\n",
    "cnt = 0\n",
    "for i in range(2, n) :\n",
    "    if n % i == 0 :\n",
    "        cnt = cnt + 1 # cnt += 1\n",
    "        \n",
    "print(cnt)"
   ]
  },
  {
   "cell_type": "code",
   "execution_count": 12,
   "metadata": {},
   "outputs": [
    {
     "name": "stdout",
     "output_type": "stream",
     "text": [
      "2 이상의 정수를 입력해주세요 : 15\n",
      "2\n"
     ]
    }
   ],
   "source": [
    "n = int(input('2 이상의 정수를 입력해주세요 : '))\n",
    "cnt = 0\n",
    "for i in range(2, n) :\n",
    "    if n % i == 0 :\n",
    "        cnt = cnt + 1 # cnt += 1\n",
    "        \n",
    "print(cnt)"
   ]
  },
  {
   "cell_type": "code",
   "execution_count": 13,
   "metadata": {},
   "outputs": [
    {
     "name": "stdout",
     "output_type": "stream",
     "text": [
      "2 이상의 정수를 하나 입력하세요 : 121\n",
      "완전 제곱수입니다.\n"
     ]
    }
   ],
   "source": [
    "n = int(input('2 이상의 정수를 하나 입력하세요 : '))\n",
    "cnt = 0\n",
    "\n",
    "for i in range(2, n) : \n",
    "    if n % i == 0 :\n",
    "        cnt = cnt + 1\n",
    "        \n",
    "if cnt % 2 == 1 :\n",
    "    print('완전 제곱수입니다.')\n",
    "else :\n",
    "    print('완전 제곱수가 아닙니다.')"
   ]
  },
  {
   "cell_type": "code",
   "execution_count": 14,
   "metadata": {},
   "outputs": [
    {
     "name": "stdout",
     "output_type": "stream",
     "text": [
      "2 이상의 정수를 하나 입력하세요 : 19835\n",
      "소수가 아닙니다.\n"
     ]
    }
   ],
   "source": [
    "n = int(input('2 이상의 정수를 하나 입력하세요 : '))\n",
    "check = False\n",
    "\n",
    "for i in range(2, n) : \n",
    "    if n % i == 0 :\n",
    "        check = True\n",
    "        \n",
    "if check == False :\n",
    "    print('소수입니다.')\n",
    "else :\n",
    "    print('소수가 아닙니다.')"
   ]
  },
  {
   "cell_type": "markdown",
   "metadata": {},
   "source": [
    "#### part 2)"
   ]
  },
  {
   "cell_type": "markdown",
   "metadata": {},
   "source": [
    "#### 100부터 1000까지 모두 더하면 얼마일까요?"
   ]
  },
  {
   "cell_type": "code",
   "execution_count": 21,
   "metadata": {},
   "outputs": [
    {
     "name": "stdout",
     "output_type": "stream",
     "text": [
      "495550\n"
     ]
    }
   ],
   "source": [
    "s = 0\n",
    "for i in range(100, 1001) :\n",
    "    s = s + i\n",
    "print(s)"
   ]
  },
  {
   "cell_type": "markdown",
   "metadata": {},
   "source": [
    "#### 1000보다 작은 자연수 중에서 3 또는 5의 배수를 모두 더하면 얼마일까요?"
   ]
  },
  {
   "cell_type": "code",
   "execution_count": 17,
   "metadata": {},
   "outputs": [
    {
     "name": "stdout",
     "output_type": "stream",
     "text": [
      "233168\n"
     ]
    }
   ],
   "source": [
    "s = 0\n",
    "for i in range(1000) : \n",
    "    if i % 3 == 0 or i % 5 == 0 :\n",
    "        s = s + i\n",
    "print(s)"
   ]
  },
  {
   "cell_type": "markdown",
   "metadata": {},
   "source": [
    "#### 1000보다 작은 자연수 중에서 3의 배수이면서 5의 배수가 아닌 것을 모두 더하면 얼마일까요?"
   ]
  },
  {
   "cell_type": "code",
   "execution_count": 19,
   "metadata": {},
   "outputs": [
    {
     "name": "stdout",
     "output_type": "stream",
     "text": [
      "133668\n"
     ]
    }
   ],
   "source": [
    "s = 0\n",
    "for i in range(1000) : \n",
    "    if i % 3 == 0 and i % 5 != 0 :\n",
    "        s = s + i\n",
    "print(s)"
   ]
  },
  {
   "cell_type": "markdown",
   "metadata": {},
   "source": [
    " #### 다음 코드의 실행결과는 어떻게 출력될까요?"
   ]
  },
  {
   "cell_type": "code",
   "execution_count": 20,
   "metadata": {},
   "outputs": [
    {
     "name": "stdout",
     "output_type": "stream",
     "text": [
      "[5, 6]\n",
      "[10, 11, 12]\n",
      "[20, 21]\n",
      "[25, 26, 27]\n",
      "[35, 36]\n",
      "[40, 41, 42]\n"
     ]
    }
   ],
   "source": [
    "a = list(range(0,50))\n",
    "\n",
    "start = -1 \n",
    "for i in a :\n",
    "    if i % 5 == 0 and i % 3 != 0 :\n",
    "        start = i\n",
    "    if start != -1 and i % 5 != 0 and i % 3 == 0 :\n",
    "        print(a[start:i+1])\n",
    "        start = -1"
   ]
  },
  {
   "cell_type": "markdown",
   "metadata": {},
   "source": [
    "## III. 프로젝트 오일러"
   ]
  },
  {
   "cell_type": "markdown",
   "metadata": {},
   "source": [
    "### 1번) 1000보다 작은 자연수 중에서 3 또는 5의 배수를 모두 더하면 얼마일까요?"
   ]
  },
  {
   "cell_type": "code",
   "execution_count": 7,
   "metadata": {},
   "outputs": [
    {
     "name": "stdout",
     "output_type": "stream",
     "text": [
      "233168\n"
     ]
    }
   ],
   "source": [
    "s = 0\n",
    "for i in range(1, 1000) : \n",
    "    if i % 3 == 0 or i % 5 == 0 :\n",
    "        s += i # s = s + i\n",
    "print(s)"
   ]
  },
  {
   "cell_type": "markdown",
   "metadata": {},
   "source": [
    "### 2번) 짝수이면서 4백만 이하인 피보나치 수열의 모든 항을 더하면 얼마가 됩니까?"
   ]
  },
  {
   "cell_type": "markdown",
   "metadata": {},
   "source": [
    "#### version 1 - while"
   ]
  },
  {
   "cell_type": "code",
   "execution_count": 8,
   "metadata": {},
   "outputs": [
    {
     "name": "stdout",
     "output_type": "stream",
     "text": [
      "4613732\n",
      "32\n"
     ]
    }
   ],
   "source": [
    "# code by 강승모 1206\n",
    "\n",
    "x = 1 #앞의 항의 처음 값 설정\n",
    "y = 2 #그 다음 항의 처음 값 설정\n",
    "s = 0 #합의 처음 값 설정\n",
    "cnt = 0 #반복횟수 카운팅\n",
    "\n",
    "while x <= 4000000 : # x가 400만보다 작거나 같을 때까지\n",
    "    cnt += 1 #반복횟수 카운팅\n",
    "    if x % 2 == 0 : #만약 x가 2의 배수이면\n",
    "        s = s + x # s에다가 x를 더한다\n",
    "    y = x + y #y를 x+y로 바꿔주고\n",
    "    x = y - x # x를 y-x로 바꿔준다(이미 y를 x+y 로 바꾸었기 때문에)\n",
    "    \n",
    "print(s) #s를 출력한다.\n",
    "print(cnt) #반복횟수 출력"
   ]
  },
  {
   "cell_type": "markdown",
   "metadata": {},
   "source": [
    "#### version 2 - for"
   ]
  },
  {
   "cell_type": "code",
   "execution_count": 9,
   "metadata": {},
   "outputs": [
    {
     "name": "stdout",
     "output_type": "stream",
     "text": [
      "4613732\n",
      "3999998\n"
     ]
    }
   ],
   "source": [
    "x = 1 \n",
    "y = 2 \n",
    "s = 2 # 초기값 2로 설정\n",
    "cnt = 0 #반복횟수 카운팅\n",
    "\n",
    "for i in range(3, 4000001) :\n",
    "    cnt += 1 #반복횟수 카운팅\n",
    "    if i == x + y : \n",
    "        y = x + y \n",
    "        x = y - x \n",
    "        if i % 2 == 0 :\n",
    "            s += i \n",
    "print(s)\n",
    "print(cnt) #반복횟수 출력"
   ]
  },
  {
   "cell_type": "markdown",
   "metadata": {},
   "source": [
    "## IV. 생물정보학 프로젝트"
   ]
  },
  {
   "cell_type": "markdown",
   "metadata": {},
   "source": [
    "#### 1단계 - DNA to mRNA"
   ]
  },
  {
   "cell_type": "code",
   "execution_count": 2,
   "metadata": {},
   "outputs": [
    {
     "name": "stdout",
     "output_type": "stream",
     "text": [
      "['A', 'T', 'G', 'T', 'C', 'C', 'T', 'G', 'T', 'T', 'A', 'A']\n",
      "['U', 'A', 'C', 'A', 'G', 'G', 'A', 'C', 'A', 'A', 'U', 'U']\n"
     ]
    }
   ],
   "source": [
    "# 1. DNA 서열 입력하기 * 어떤 데이터 구조에 담을까?\n",
    "dna = list('ATGTCCTGTTAA')\n",
    "# 2. DNA를 mRNA로 바꿔줄 규칙 정하기  * 그 규칙은 어떤 데이터 구조에 담을까?\n",
    "pair = {'A':'U','T':'A','G':'C','C':'G'}\n",
    "\n",
    "result = []\n",
    "# 3. DNA 서열을 차례대로 mRNA로 바꾸기\n",
    "for i in dna :\n",
    "  # 4. 바뀐 데이터 순서대로 저장하기 * 바뀐 데이터는 어떤 데이터 구조에 담을까?\n",
    "    result.append(pair[i])\n",
    "\n",
    "print(dna)\n",
    "# 5. 전사된 mRNA 서열 결과 출력하기\n",
    "print(result)"
   ]
  },
  {
   "cell_type": "markdown",
   "metadata": {},
   "source": [
    "#### 2단계 - mRNA 순서 바꾸기"
   ]
  },
  {
   "cell_type": "code",
   "execution_count": 3,
   "metadata": {},
   "outputs": [
    {
     "name": "stdout",
     "output_type": "stream",
     "text": [
      "['A', 'T', 'G', 'T', 'C', 'C', 'T', 'G', 'T', 'T', 'A', 'C', 'A', 'T', 'A', 'T', 'T', 'G', 'C']\n",
      "['G', 'C', 'A', 'A', 'U', 'A', 'U', 'G', 'U', 'A', 'A', 'C', 'A', 'G', 'G', 'A', 'C', 'A', 'U']\n"
     ]
    }
   ],
   "source": [
    "dna = list('ATGTCCTGTTACATATTGC')\n",
    "pair = {'A':'U','T':'A','G':'C','C':'G'}\n",
    "\n",
    "result = []\n",
    "for i in dna :\n",
    "    result.append(pair[i])\n",
    "\n",
    "print(dna)\n",
    "print(result[::-1])"
   ]
  },
  {
   "cell_type": "markdown",
   "metadata": {},
   "source": [
    "#### 3단계 - mRNA 리스트에 저장하기"
   ]
  },
  {
   "cell_type": "code",
   "execution_count": 4,
   "metadata": {},
   "outputs": [
    {
     "name": "stdout",
     "output_type": "stream",
     "text": [
      "['G', 'T', 'T', 'A', 'C', 'A', 'T', 'A', 'T', 'T', 'G', 'C']\n",
      "['G', 'C', 'A', 'A', 'U', 'A', 'U', 'G', 'U', 'A', 'A', 'C']\n"
     ]
    }
   ],
   "source": [
    "dna = list('GTTACATATTGC')\n",
    "pair = {'A':'U','T':'A','G':'C','C':'G'}\n",
    "\n",
    "result = []\n",
    "for i in dna :\n",
    "    result.append(pair[i])\n",
    "result = result[::-1]\n",
    "\n",
    "print(dna)\n",
    "print(result)"
   ]
  },
  {
   "cell_type": "markdown",
   "metadata": {},
   "source": [
    "#### 4단계 - 개시코돈 찾기"
   ]
  },
  {
   "cell_type": "code",
   "execution_count": 5,
   "metadata": {},
   "outputs": [
    {
     "name": "stdout",
     "output_type": "stream",
     "text": [
      "['G', 'T', 'T', 'A', 'C', 'A', 'T', 'A', 'T', 'T', 'G', 'C']\n",
      "['G', 'C', 'A', 'A', 'U', 'A', 'U', 'G', 'U', 'A', 'A', 'C']\n",
      "['A', 'U', 'G', 'U', 'A', 'A', 'C']\n"
     ]
    }
   ],
   "source": [
    "dna = list('GTTACATATTGC')\n",
    "pair = {'A':'U','T':'A','G':'C','C':'G'}\n",
    "\n",
    "result = []\n",
    "for i in dna :\n",
    "    result.append(pair[i])\n",
    "\n",
    "result = result[::-1]\n",
    "\n",
    "print(dna)\n",
    "print(result)\n",
    "\n",
    "for i in range(len(result)-2) :\n",
    "    if result[i] + result[i+1] + result[i+2] == 'AUG' :\n",
    "        codon = result[i:]\n",
    "        break\n",
    "\n",
    "print(codon)"
   ]
  },
  {
   "cell_type": "markdown",
   "metadata": {},
   "source": [
    "#### 5단계(최종) - 종결코돈 추가 + 번역"
   ]
  },
  {
   "cell_type": "code",
   "execution_count": 6,
   "metadata": {},
   "outputs": [
    {
     "name": "stdout",
     "output_type": "stream",
     "text": [
      "AUGGGUACUCGGUGUACAUAA\n",
      "MGTRCT-\n",
      "AUGGUACGGUAA\n",
      "MVR-\n"
     ]
    }
   ],
   "source": [
    "# in 연산자를 활용해 조건을 간단히 바꾼 최종 결과\n",
    "mRNA = 'UACGAUGUAAAGUUAAUAGUAAUGGGUACUCGGUGUACAUAAUCCGGAUGGGGCCGCGUAUUUAGAUCUGGUACAUACGAAUUAAUAGUAAUGGUACGGUAA'\n",
    "pair = {'UUU':'F', 'UUC':'F', 'UUA':'L', 'UUG':'L', 'CUU':'L', 'CUC':'L', 'CUA':'L', 'CUG':'L', 'AUU':'I', 'AUC':'I', 'AUA':'I', 'AUG':'M', \n",
    "        'GUU':'V', 'GUC':'V', 'GUA' : 'V', 'GUG' : 'V', 'UCU':'S', 'UCC':'S', 'UCA':'S', 'UCG':'S', 'CCU':'P', 'CCC':'P', 'CCA':'P', 'CCG' : 'P',\n",
    "        'ACU' :'T','ACC' : 'T', 'ACA':'T','ACG' : 'T', 'GCU':'A', 'GCC':'A', 'GCA':'A', 'GCG':'A', 'UAU':'Y', 'UAC':'Y', 'UAA':'-', 'UAG':'-',\n",
    "        'CAU':'H', 'CAC':'H', 'CAA':'Q', 'CAG':'Q', 'AAU':'N', 'AAC':'N', 'AAA':'K', 'AAG':'K', 'GAU':'D', 'GAC':'D', 'GAA':'E', 'GAG':'E', \n",
    "        'UGU':'C', 'UGC':'C', 'UGA':'-', 'UGG':'W', 'CGU':'R', 'CGC':'R', 'CGA':'R', 'CGG':'R', 'AGU':'S', 'AGC':'S', 'AGA':'R', 'AGG':'R', \n",
    "        'GGU':'G', 'GGC':'G', 'GGA':'G', 'GGG':'G'}\n",
    "start = -1 \n",
    "for i in range(0,(len(mRNA)),3) :\n",
    "    temp = mRNA[i] + mRNA[i+1] + mRNA[i+2] \n",
    "    if temp == 'AUG' :\n",
    "        start = i      \n",
    "    if start != -1 and temp in ['UAA','UGA','UAG'] : # a in b -> a가 b에 포함되는가?\n",
    "        codon = mRNA[start:i+3]\n",
    "        print(codon)\n",
    "        for j in range(0,len(codon),3) :\n",
    "            print(pair[codon[j]+codon[j+1]+codon[j+2]], end = '') \n",
    "        print() \n",
    "        start = -1"
   ]
  }
 ],
 "metadata": {
  "kernelspec": {
   "display_name": "Python 3",
   "language": "python",
   "name": "python3"
  },
  "language_info": {
   "codemirror_mode": {
    "name": "ipython",
    "version": 3
   },
   "file_extension": ".py",
   "mimetype": "text/x-python",
   "name": "python",
   "nbconvert_exporter": "python",
   "pygments_lexer": "ipython3",
   "version": "3.7.6"
  }
 },
 "nbformat": 4,
 "nbformat_minor": 4
}
